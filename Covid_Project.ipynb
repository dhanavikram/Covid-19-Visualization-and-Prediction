{
  "cells": [
    {
      "cell_type": "markdown",
      "metadata": {
        "id": "9CmS7utkRqsO"
      },
      "source": [
        "# Major Project - Covid 19 Visualizations and Predictions \n",
        "\n",
        "By Dhanavikram S of Batch-3(Data-Science) submitted on 23-07-2020\n"
      ]
    },
    {
      "cell_type": "code",
      "execution_count": 37,
      "metadata": {
        "id": "1wmLgQj8RqsQ"
      },
      "outputs": [],
      "source": [
        "#IMPORTING THE LIBRARIES\n",
        "\n",
        "import datetime as dt\n",
        "import numpy as np\n",
        "import pandas as pd\n",
        "import matplotlib.pyplot as plt\n",
        "import seaborn as sns\n",
        "sns.set_style(style='darkgrid')"
      ]
    },
    {
      "cell_type": "markdown",
      "metadata": {
        "id": "xxhqFsfHRqsR"
      },
      "source": [
        "## Importing Data"
      ]
    },
    {
      "cell_type": "code",
      "execution_count": 16,
      "metadata": {
        "id": "VcpP_zhkRqsR"
      },
      "outputs": [],
      "source": [
        "df = pd.read_csv('data/owid-covid-data.csv', parse_dates=['date'])"
      ]
    },
    {
      "cell_type": "code",
      "execution_count": 3,
      "metadata": {
        "id": "liUd95j0RqsS",
        "outputId": "9da578a4-6103-46f3-c179-fd214ceae90a"
      },
      "outputs": [
        {
          "data": {
            "text/html": [
              "<div>\n",
              "<style scoped>\n",
              "    .dataframe tbody tr th:only-of-type {\n",
              "        vertical-align: middle;\n",
              "    }\n",
              "\n",
              "    .dataframe tbody tr th {\n",
              "        vertical-align: top;\n",
              "    }\n",
              "\n",
              "    .dataframe thead th {\n",
              "        text-align: right;\n",
              "    }\n",
              "</style>\n",
              "<table border=\"1\" class=\"dataframe\">\n",
              "  <thead>\n",
              "    <tr style=\"text-align: right;\">\n",
              "      <th></th>\n",
              "      <th>iso_code</th>\n",
              "      <th>continent</th>\n",
              "      <th>location</th>\n",
              "      <th>date</th>\n",
              "      <th>total_cases</th>\n",
              "      <th>new_cases</th>\n",
              "      <th>new_cases_smoothed</th>\n",
              "      <th>total_deaths</th>\n",
              "      <th>new_deaths</th>\n",
              "      <th>new_deaths_smoothed</th>\n",
              "      <th>...</th>\n",
              "      <th>female_smokers</th>\n",
              "      <th>male_smokers</th>\n",
              "      <th>handwashing_facilities</th>\n",
              "      <th>hospital_beds_per_thousand</th>\n",
              "      <th>life_expectancy</th>\n",
              "      <th>human_development_index</th>\n",
              "      <th>excess_mortality_cumulative_absolute</th>\n",
              "      <th>excess_mortality_cumulative</th>\n",
              "      <th>excess_mortality</th>\n",
              "      <th>excess_mortality_cumulative_per_million</th>\n",
              "    </tr>\n",
              "  </thead>\n",
              "  <tbody>\n",
              "    <tr>\n",
              "      <th>0</th>\n",
              "      <td>AFG</td>\n",
              "      <td>Asia</td>\n",
              "      <td>Afghanistan</td>\n",
              "      <td>2020-02-24</td>\n",
              "      <td>5.0</td>\n",
              "      <td>5.0</td>\n",
              "      <td>NaN</td>\n",
              "      <td>NaN</td>\n",
              "      <td>NaN</td>\n",
              "      <td>NaN</td>\n",
              "      <td>...</td>\n",
              "      <td>NaN</td>\n",
              "      <td>NaN</td>\n",
              "      <td>37.746</td>\n",
              "      <td>0.5</td>\n",
              "      <td>64.83</td>\n",
              "      <td>0.511</td>\n",
              "      <td>NaN</td>\n",
              "      <td>NaN</td>\n",
              "      <td>NaN</td>\n",
              "      <td>NaN</td>\n",
              "    </tr>\n",
              "    <tr>\n",
              "      <th>1</th>\n",
              "      <td>AFG</td>\n",
              "      <td>Asia</td>\n",
              "      <td>Afghanistan</td>\n",
              "      <td>2020-02-25</td>\n",
              "      <td>5.0</td>\n",
              "      <td>0.0</td>\n",
              "      <td>NaN</td>\n",
              "      <td>NaN</td>\n",
              "      <td>NaN</td>\n",
              "      <td>NaN</td>\n",
              "      <td>...</td>\n",
              "      <td>NaN</td>\n",
              "      <td>NaN</td>\n",
              "      <td>37.746</td>\n",
              "      <td>0.5</td>\n",
              "      <td>64.83</td>\n",
              "      <td>0.511</td>\n",
              "      <td>NaN</td>\n",
              "      <td>NaN</td>\n",
              "      <td>NaN</td>\n",
              "      <td>NaN</td>\n",
              "    </tr>\n",
              "    <tr>\n",
              "      <th>2</th>\n",
              "      <td>AFG</td>\n",
              "      <td>Asia</td>\n",
              "      <td>Afghanistan</td>\n",
              "      <td>2020-02-26</td>\n",
              "      <td>5.0</td>\n",
              "      <td>0.0</td>\n",
              "      <td>NaN</td>\n",
              "      <td>NaN</td>\n",
              "      <td>NaN</td>\n",
              "      <td>NaN</td>\n",
              "      <td>...</td>\n",
              "      <td>NaN</td>\n",
              "      <td>NaN</td>\n",
              "      <td>37.746</td>\n",
              "      <td>0.5</td>\n",
              "      <td>64.83</td>\n",
              "      <td>0.511</td>\n",
              "      <td>NaN</td>\n",
              "      <td>NaN</td>\n",
              "      <td>NaN</td>\n",
              "      <td>NaN</td>\n",
              "    </tr>\n",
              "    <tr>\n",
              "      <th>3</th>\n",
              "      <td>AFG</td>\n",
              "      <td>Asia</td>\n",
              "      <td>Afghanistan</td>\n",
              "      <td>2020-02-27</td>\n",
              "      <td>5.0</td>\n",
              "      <td>0.0</td>\n",
              "      <td>NaN</td>\n",
              "      <td>NaN</td>\n",
              "      <td>NaN</td>\n",
              "      <td>NaN</td>\n",
              "      <td>...</td>\n",
              "      <td>NaN</td>\n",
              "      <td>NaN</td>\n",
              "      <td>37.746</td>\n",
              "      <td>0.5</td>\n",
              "      <td>64.83</td>\n",
              "      <td>0.511</td>\n",
              "      <td>NaN</td>\n",
              "      <td>NaN</td>\n",
              "      <td>NaN</td>\n",
              "      <td>NaN</td>\n",
              "    </tr>\n",
              "    <tr>\n",
              "      <th>4</th>\n",
              "      <td>AFG</td>\n",
              "      <td>Asia</td>\n",
              "      <td>Afghanistan</td>\n",
              "      <td>2020-02-28</td>\n",
              "      <td>5.0</td>\n",
              "      <td>0.0</td>\n",
              "      <td>NaN</td>\n",
              "      <td>NaN</td>\n",
              "      <td>NaN</td>\n",
              "      <td>NaN</td>\n",
              "      <td>...</td>\n",
              "      <td>NaN</td>\n",
              "      <td>NaN</td>\n",
              "      <td>37.746</td>\n",
              "      <td>0.5</td>\n",
              "      <td>64.83</td>\n",
              "      <td>0.511</td>\n",
              "      <td>NaN</td>\n",
              "      <td>NaN</td>\n",
              "      <td>NaN</td>\n",
              "      <td>NaN</td>\n",
              "    </tr>\n",
              "  </tbody>\n",
              "</table>\n",
              "<p>5 rows × 67 columns</p>\n",
              "</div>"
            ],
            "text/plain": [
              "  iso_code continent     location        date  total_cases  new_cases  \\\n",
              "0      AFG      Asia  Afghanistan  2020-02-24          5.0        5.0   \n",
              "1      AFG      Asia  Afghanistan  2020-02-25          5.0        0.0   \n",
              "2      AFG      Asia  Afghanistan  2020-02-26          5.0        0.0   \n",
              "3      AFG      Asia  Afghanistan  2020-02-27          5.0        0.0   \n",
              "4      AFG      Asia  Afghanistan  2020-02-28          5.0        0.0   \n",
              "\n",
              "   new_cases_smoothed  total_deaths  new_deaths  new_deaths_smoothed  ...  \\\n",
              "0                 NaN           NaN         NaN                  NaN  ...   \n",
              "1                 NaN           NaN         NaN                  NaN  ...   \n",
              "2                 NaN           NaN         NaN                  NaN  ...   \n",
              "3                 NaN           NaN         NaN                  NaN  ...   \n",
              "4                 NaN           NaN         NaN                  NaN  ...   \n",
              "\n",
              "   female_smokers  male_smokers  handwashing_facilities  \\\n",
              "0             NaN           NaN                  37.746   \n",
              "1             NaN           NaN                  37.746   \n",
              "2             NaN           NaN                  37.746   \n",
              "3             NaN           NaN                  37.746   \n",
              "4             NaN           NaN                  37.746   \n",
              "\n",
              "   hospital_beds_per_thousand  life_expectancy  human_development_index  \\\n",
              "0                         0.5            64.83                    0.511   \n",
              "1                         0.5            64.83                    0.511   \n",
              "2                         0.5            64.83                    0.511   \n",
              "3                         0.5            64.83                    0.511   \n",
              "4                         0.5            64.83                    0.511   \n",
              "\n",
              "   excess_mortality_cumulative_absolute  excess_mortality_cumulative  \\\n",
              "0                                   NaN                          NaN   \n",
              "1                                   NaN                          NaN   \n",
              "2                                   NaN                          NaN   \n",
              "3                                   NaN                          NaN   \n",
              "4                                   NaN                          NaN   \n",
              "\n",
              "   excess_mortality  excess_mortality_cumulative_per_million  \n",
              "0               NaN                                      NaN  \n",
              "1               NaN                                      NaN  \n",
              "2               NaN                                      NaN  \n",
              "3               NaN                                      NaN  \n",
              "4               NaN                                      NaN  \n",
              "\n",
              "[5 rows x 67 columns]"
            ]
          },
          "execution_count": 3,
          "metadata": {},
          "output_type": "execute_result"
        }
      ],
      "source": [
        "df.head()"
      ]
    },
    {
      "cell_type": "code",
      "execution_count": 4,
      "metadata": {
        "id": "2P6CIHx2RqsS",
        "outputId": "4da5f782-fe06-465f-d90b-fb68db7f9e73"
      },
      "outputs": [
        {
          "data": {
            "text/plain": [
              "(223309, 67)"
            ]
          },
          "execution_count": 4,
          "metadata": {},
          "output_type": "execute_result"
        }
      ],
      "source": [
        "df.shape"
      ]
    },
    {
      "cell_type": "markdown",
      "metadata": {},
      "source": [
        "### Filtering data for Country - India"
      ]
    },
    {
      "cell_type": "code",
      "execution_count": 5,
      "metadata": {
        "id": "_4rDnOiQRqsT"
      },
      "outputs": [],
      "source": [
        "#Choosing data having 'India' as location for the dataset\n",
        "\n",
        "df = df.loc[df['location']=='India']"
      ]
    },
    {
      "cell_type": "code",
      "execution_count": 6,
      "metadata": {
        "id": "QpvskW-wRqsT",
        "outputId": "93acf897-0815-4b91-cdee-e05bcfd28cc1"
      },
      "outputs": [
        {
          "data": {
            "text/html": [
              "<div>\n",
              "<style scoped>\n",
              "    .dataframe tbody tr th:only-of-type {\n",
              "        vertical-align: middle;\n",
              "    }\n",
              "\n",
              "    .dataframe tbody tr th {\n",
              "        vertical-align: top;\n",
              "    }\n",
              "\n",
              "    .dataframe thead th {\n",
              "        text-align: right;\n",
              "    }\n",
              "</style>\n",
              "<table border=\"1\" class=\"dataframe\">\n",
              "  <thead>\n",
              "    <tr style=\"text-align: right;\">\n",
              "      <th></th>\n",
              "      <th>iso_code</th>\n",
              "      <th>continent</th>\n",
              "      <th>location</th>\n",
              "      <th>date</th>\n",
              "      <th>total_cases</th>\n",
              "      <th>new_cases</th>\n",
              "      <th>new_cases_smoothed</th>\n",
              "      <th>total_deaths</th>\n",
              "      <th>new_deaths</th>\n",
              "      <th>new_deaths_smoothed</th>\n",
              "      <th>...</th>\n",
              "      <th>female_smokers</th>\n",
              "      <th>male_smokers</th>\n",
              "      <th>handwashing_facilities</th>\n",
              "      <th>hospital_beds_per_thousand</th>\n",
              "      <th>life_expectancy</th>\n",
              "      <th>human_development_index</th>\n",
              "      <th>excess_mortality_cumulative_absolute</th>\n",
              "      <th>excess_mortality_cumulative</th>\n",
              "      <th>excess_mortality</th>\n",
              "      <th>excess_mortality_cumulative_per_million</th>\n",
              "    </tr>\n",
              "  </thead>\n",
              "  <tbody>\n",
              "    <tr>\n",
              "      <th>91636</th>\n",
              "      <td>IND</td>\n",
              "      <td>Asia</td>\n",
              "      <td>India</td>\n",
              "      <td>2020-01-30</td>\n",
              "      <td>1.0</td>\n",
              "      <td>1.0</td>\n",
              "      <td>NaN</td>\n",
              "      <td>NaN</td>\n",
              "      <td>NaN</td>\n",
              "      <td>NaN</td>\n",
              "      <td>...</td>\n",
              "      <td>1.9</td>\n",
              "      <td>20.6</td>\n",
              "      <td>59.55</td>\n",
              "      <td>0.53</td>\n",
              "      <td>69.66</td>\n",
              "      <td>0.645</td>\n",
              "      <td>NaN</td>\n",
              "      <td>NaN</td>\n",
              "      <td>NaN</td>\n",
              "      <td>NaN</td>\n",
              "    </tr>\n",
              "    <tr>\n",
              "      <th>91637</th>\n",
              "      <td>IND</td>\n",
              "      <td>Asia</td>\n",
              "      <td>India</td>\n",
              "      <td>2020-01-31</td>\n",
              "      <td>1.0</td>\n",
              "      <td>0.0</td>\n",
              "      <td>NaN</td>\n",
              "      <td>NaN</td>\n",
              "      <td>NaN</td>\n",
              "      <td>NaN</td>\n",
              "      <td>...</td>\n",
              "      <td>1.9</td>\n",
              "      <td>20.6</td>\n",
              "      <td>59.55</td>\n",
              "      <td>0.53</td>\n",
              "      <td>69.66</td>\n",
              "      <td>0.645</td>\n",
              "      <td>NaN</td>\n",
              "      <td>NaN</td>\n",
              "      <td>NaN</td>\n",
              "      <td>NaN</td>\n",
              "    </tr>\n",
              "    <tr>\n",
              "      <th>91638</th>\n",
              "      <td>IND</td>\n",
              "      <td>Asia</td>\n",
              "      <td>India</td>\n",
              "      <td>2020-02-01</td>\n",
              "      <td>1.0</td>\n",
              "      <td>0.0</td>\n",
              "      <td>NaN</td>\n",
              "      <td>NaN</td>\n",
              "      <td>NaN</td>\n",
              "      <td>NaN</td>\n",
              "      <td>...</td>\n",
              "      <td>1.9</td>\n",
              "      <td>20.6</td>\n",
              "      <td>59.55</td>\n",
              "      <td>0.53</td>\n",
              "      <td>69.66</td>\n",
              "      <td>0.645</td>\n",
              "      <td>NaN</td>\n",
              "      <td>NaN</td>\n",
              "      <td>NaN</td>\n",
              "      <td>NaN</td>\n",
              "    </tr>\n",
              "    <tr>\n",
              "      <th>91639</th>\n",
              "      <td>IND</td>\n",
              "      <td>Asia</td>\n",
              "      <td>India</td>\n",
              "      <td>2020-02-02</td>\n",
              "      <td>2.0</td>\n",
              "      <td>1.0</td>\n",
              "      <td>NaN</td>\n",
              "      <td>NaN</td>\n",
              "      <td>NaN</td>\n",
              "      <td>NaN</td>\n",
              "      <td>...</td>\n",
              "      <td>1.9</td>\n",
              "      <td>20.6</td>\n",
              "      <td>59.55</td>\n",
              "      <td>0.53</td>\n",
              "      <td>69.66</td>\n",
              "      <td>0.645</td>\n",
              "      <td>NaN</td>\n",
              "      <td>NaN</td>\n",
              "      <td>NaN</td>\n",
              "      <td>NaN</td>\n",
              "    </tr>\n",
              "    <tr>\n",
              "      <th>91640</th>\n",
              "      <td>IND</td>\n",
              "      <td>Asia</td>\n",
              "      <td>India</td>\n",
              "      <td>2020-02-03</td>\n",
              "      <td>3.0</td>\n",
              "      <td>1.0</td>\n",
              "      <td>NaN</td>\n",
              "      <td>NaN</td>\n",
              "      <td>NaN</td>\n",
              "      <td>NaN</td>\n",
              "      <td>...</td>\n",
              "      <td>1.9</td>\n",
              "      <td>20.6</td>\n",
              "      <td>59.55</td>\n",
              "      <td>0.53</td>\n",
              "      <td>69.66</td>\n",
              "      <td>0.645</td>\n",
              "      <td>NaN</td>\n",
              "      <td>NaN</td>\n",
              "      <td>NaN</td>\n",
              "      <td>NaN</td>\n",
              "    </tr>\n",
              "  </tbody>\n",
              "</table>\n",
              "<p>5 rows × 67 columns</p>\n",
              "</div>"
            ],
            "text/plain": [
              "      iso_code continent location        date  total_cases  new_cases  \\\n",
              "91636      IND      Asia    India  2020-01-30          1.0        1.0   \n",
              "91637      IND      Asia    India  2020-01-31          1.0        0.0   \n",
              "91638      IND      Asia    India  2020-02-01          1.0        0.0   \n",
              "91639      IND      Asia    India  2020-02-02          2.0        1.0   \n",
              "91640      IND      Asia    India  2020-02-03          3.0        1.0   \n",
              "\n",
              "       new_cases_smoothed  total_deaths  new_deaths  new_deaths_smoothed  ...  \\\n",
              "91636                 NaN           NaN         NaN                  NaN  ...   \n",
              "91637                 NaN           NaN         NaN                  NaN  ...   \n",
              "91638                 NaN           NaN         NaN                  NaN  ...   \n",
              "91639                 NaN           NaN         NaN                  NaN  ...   \n",
              "91640                 NaN           NaN         NaN                  NaN  ...   \n",
              "\n",
              "       female_smokers  male_smokers  handwashing_facilities  \\\n",
              "91636             1.9          20.6                   59.55   \n",
              "91637             1.9          20.6                   59.55   \n",
              "91638             1.9          20.6                   59.55   \n",
              "91639             1.9          20.6                   59.55   \n",
              "91640             1.9          20.6                   59.55   \n",
              "\n",
              "       hospital_beds_per_thousand  life_expectancy  human_development_index  \\\n",
              "91636                        0.53            69.66                    0.645   \n",
              "91637                        0.53            69.66                    0.645   \n",
              "91638                        0.53            69.66                    0.645   \n",
              "91639                        0.53            69.66                    0.645   \n",
              "91640                        0.53            69.66                    0.645   \n",
              "\n",
              "       excess_mortality_cumulative_absolute  excess_mortality_cumulative  \\\n",
              "91636                                   NaN                          NaN   \n",
              "91637                                   NaN                          NaN   \n",
              "91638                                   NaN                          NaN   \n",
              "91639                                   NaN                          NaN   \n",
              "91640                                   NaN                          NaN   \n",
              "\n",
              "       excess_mortality  excess_mortality_cumulative_per_million  \n",
              "91636               NaN                                      NaN  \n",
              "91637               NaN                                      NaN  \n",
              "91638               NaN                                      NaN  \n",
              "91639               NaN                                      NaN  \n",
              "91640               NaN                                      NaN  \n",
              "\n",
              "[5 rows x 67 columns]"
            ]
          },
          "execution_count": 6,
          "metadata": {},
          "output_type": "execute_result"
        }
      ],
      "source": [
        "df.head()"
      ]
    },
    {
      "cell_type": "code",
      "execution_count": 7,
      "metadata": {
        "id": "LFdKCSosRqsT",
        "outputId": "62fbc2a7-efae-4f4b-b83b-2ca4c419324a"
      },
      "outputs": [
        {
          "data": {
            "text/plain": [
              "(987, 67)"
            ]
          },
          "execution_count": 7,
          "metadata": {},
          "output_type": "execute_result"
        }
      ],
      "source": [
        "df.shape"
      ]
    },
    {
      "cell_type": "code",
      "execution_count": 8,
      "metadata": {
        "id": "p2shaRtHRqsU",
        "outputId": "b47e8b2a-6de4-4a48-876d-a54180084dfd",
        "scrolled": true
      },
      "outputs": [
        {
          "data": {
            "text/html": [
              "<div>\n",
              "<style scoped>\n",
              "    .dataframe tbody tr th:only-of-type {\n",
              "        vertical-align: middle;\n",
              "    }\n",
              "\n",
              "    .dataframe tbody tr th {\n",
              "        vertical-align: top;\n",
              "    }\n",
              "\n",
              "    .dataframe thead th {\n",
              "        text-align: right;\n",
              "    }\n",
              "</style>\n",
              "<table border=\"1\" class=\"dataframe\">\n",
              "  <thead>\n",
              "    <tr style=\"text-align: right;\">\n",
              "      <th></th>\n",
              "      <th>total_cases</th>\n",
              "      <th>new_cases</th>\n",
              "      <th>new_cases_smoothed</th>\n",
              "      <th>total_deaths</th>\n",
              "      <th>new_deaths</th>\n",
              "      <th>new_deaths_smoothed</th>\n",
              "      <th>total_cases_per_million</th>\n",
              "      <th>new_cases_per_million</th>\n",
              "      <th>new_cases_smoothed_per_million</th>\n",
              "      <th>total_deaths_per_million</th>\n",
              "      <th>...</th>\n",
              "      <th>female_smokers</th>\n",
              "      <th>male_smokers</th>\n",
              "      <th>handwashing_facilities</th>\n",
              "      <th>hospital_beds_per_thousand</th>\n",
              "      <th>life_expectancy</th>\n",
              "      <th>human_development_index</th>\n",
              "      <th>excess_mortality_cumulative_absolute</th>\n",
              "      <th>excess_mortality_cumulative</th>\n",
              "      <th>excess_mortality</th>\n",
              "      <th>excess_mortality_cumulative_per_million</th>\n",
              "    </tr>\n",
              "  </thead>\n",
              "  <tbody>\n",
              "    <tr>\n",
              "      <th>count</th>\n",
              "      <td>9.870000e+02</td>\n",
              "      <td>986.000000</td>\n",
              "      <td>981.000000</td>\n",
              "      <td>946.000000</td>\n",
              "      <td>944.000000</td>\n",
              "      <td>939.000000</td>\n",
              "      <td>987.000000</td>\n",
              "      <td>986.000000</td>\n",
              "      <td>981.000000</td>\n",
              "      <td>946.000000</td>\n",
              "      <td>...</td>\n",
              "      <td>9.870000e+02</td>\n",
              "      <td>9.870000e+02</td>\n",
              "      <td>9.870000e+02</td>\n",
              "      <td>9.870000e+02</td>\n",
              "      <td>9.870000e+02</td>\n",
              "      <td>9.870000e+02</td>\n",
              "      <td>0.0</td>\n",
              "      <td>0.0</td>\n",
              "      <td>0.0</td>\n",
              "      <td>0.0</td>\n",
              "    </tr>\n",
              "    <tr>\n",
              "      <th>mean</th>\n",
              "      <td>2.281600e+07</td>\n",
              "      <td>45255.048682</td>\n",
              "      <td>45475.742387</td>\n",
              "      <td>302762.295983</td>\n",
              "      <td>552.408898</td>\n",
              "      <td>553.023592</td>\n",
              "      <td>16209.568432</td>\n",
              "      <td>32.151333</td>\n",
              "      <td>32.308137</td>\n",
              "      <td>215.096678</td>\n",
              "      <td>...</td>\n",
              "      <td>1.900000e+00</td>\n",
              "      <td>2.060000e+01</td>\n",
              "      <td>5.955000e+01</td>\n",
              "      <td>5.300000e-01</td>\n",
              "      <td>6.966000e+01</td>\n",
              "      <td>6.450000e-01</td>\n",
              "      <td>NaN</td>\n",
              "      <td>NaN</td>\n",
              "      <td>NaN</td>\n",
              "      <td>NaN</td>\n",
              "    </tr>\n",
              "    <tr>\n",
              "      <th>std</th>\n",
              "      <td>1.705734e+07</td>\n",
              "      <td>75318.339204</td>\n",
              "      <td>74808.175425</td>\n",
              "      <td>201823.757718</td>\n",
              "      <td>842.952096</td>\n",
              "      <td>804.894928</td>\n",
              "      <td>12118.338920</td>\n",
              "      <td>53.509735</td>\n",
              "      <td>53.147286</td>\n",
              "      <td>143.385163</td>\n",
              "      <td>...</td>\n",
              "      <td>2.221572e-16</td>\n",
              "      <td>3.554515e-15</td>\n",
              "      <td>7.109030e-15</td>\n",
              "      <td>1.110786e-16</td>\n",
              "      <td>1.421806e-14</td>\n",
              "      <td>2.221572e-16</td>\n",
              "      <td>NaN</td>\n",
              "      <td>NaN</td>\n",
              "      <td>NaN</td>\n",
              "      <td>NaN</td>\n",
              "    </tr>\n",
              "    <tr>\n",
              "      <th>min</th>\n",
              "      <td>1.000000e+00</td>\n",
              "      <td>0.000000</td>\n",
              "      <td>0.000000</td>\n",
              "      <td>1.000000</td>\n",
              "      <td>0.000000</td>\n",
              "      <td>0.286000</td>\n",
              "      <td>0.001000</td>\n",
              "      <td>0.000000</td>\n",
              "      <td>0.000000</td>\n",
              "      <td>0.001000</td>\n",
              "      <td>...</td>\n",
              "      <td>1.900000e+00</td>\n",
              "      <td>2.060000e+01</td>\n",
              "      <td>5.955000e+01</td>\n",
              "      <td>5.300000e-01</td>\n",
              "      <td>6.966000e+01</td>\n",
              "      <td>6.450000e-01</td>\n",
              "      <td>NaN</td>\n",
              "      <td>NaN</td>\n",
              "      <td>NaN</td>\n",
              "      <td>NaN</td>\n",
              "    </tr>\n",
              "    <tr>\n",
              "      <th>25%</th>\n",
              "      <td>6.511458e+06</td>\n",
              "      <td>5912.750000</td>\n",
              "      <td>6331.143000</td>\n",
              "      <td>123225.500000</td>\n",
              "      <td>58.750000</td>\n",
              "      <td>69.428500</td>\n",
              "      <td>4626.048500</td>\n",
              "      <td>4.201000</td>\n",
              "      <td>4.498000</td>\n",
              "      <td>87.545250</td>\n",
              "      <td>...</td>\n",
              "      <td>1.900000e+00</td>\n",
              "      <td>2.060000e+01</td>\n",
              "      <td>5.955000e+01</td>\n",
              "      <td>5.300000e-01</td>\n",
              "      <td>6.966000e+01</td>\n",
              "      <td>6.450000e-01</td>\n",
              "      <td>NaN</td>\n",
              "      <td>NaN</td>\n",
              "      <td>NaN</td>\n",
              "      <td>NaN</td>\n",
              "    </tr>\n",
              "    <tr>\n",
              "      <th>50%</th>\n",
              "      <td>2.890998e+07</td>\n",
              "      <td>17371.500000</td>\n",
              "      <td>17805.857000</td>\n",
              "      <td>396240.500000</td>\n",
              "      <td>290.500000</td>\n",
              "      <td>312.857000</td>\n",
              "      <td>20539.015000</td>\n",
              "      <td>12.341500</td>\n",
              "      <td>12.650000</td>\n",
              "      <td>281.508000</td>\n",
              "      <td>...</td>\n",
              "      <td>1.900000e+00</td>\n",
              "      <td>2.060000e+01</td>\n",
              "      <td>5.955000e+01</td>\n",
              "      <td>5.300000e-01</td>\n",
              "      <td>6.966000e+01</td>\n",
              "      <td>6.450000e-01</td>\n",
              "      <td>NaN</td>\n",
              "      <td>NaN</td>\n",
              "      <td>NaN</td>\n",
              "      <td>NaN</td>\n",
              "    </tr>\n",
              "    <tr>\n",
              "      <th>75%</th>\n",
              "      <td>4.237529e+07</td>\n",
              "      <td>45889.500000</td>\n",
              "      <td>45622.000000</td>\n",
              "      <td>511148.750000</td>\n",
              "      <td>585.000000</td>\n",
              "      <td>621.214500</td>\n",
              "      <td>30105.414500</td>\n",
              "      <td>32.602250</td>\n",
              "      <td>32.412000</td>\n",
              "      <td>363.144250</td>\n",
              "      <td>...</td>\n",
              "      <td>1.900000e+00</td>\n",
              "      <td>2.060000e+01</td>\n",
              "      <td>5.955000e+01</td>\n",
              "      <td>5.300000e-01</td>\n",
              "      <td>6.966000e+01</td>\n",
              "      <td>6.450000e-01</td>\n",
              "      <td>NaN</td>\n",
              "      <td>NaN</td>\n",
              "      <td>NaN</td>\n",
              "      <td>NaN</td>\n",
              "    </tr>\n",
              "    <tr>\n",
              "      <th>max</th>\n",
              "      <td>4.462132e+07</td>\n",
              "      <td>414188.000000</td>\n",
              "      <td>391232.000000</td>\n",
              "      <td>528847.000000</td>\n",
              "      <td>4529.000000</td>\n",
              "      <td>4190.000000</td>\n",
              "      <td>31701.098000</td>\n",
              "      <td>294.259000</td>\n",
              "      <td>277.950000</td>\n",
              "      <td>375.718000</td>\n",
              "      <td>...</td>\n",
              "      <td>1.900000e+00</td>\n",
              "      <td>2.060000e+01</td>\n",
              "      <td>5.955000e+01</td>\n",
              "      <td>5.300000e-01</td>\n",
              "      <td>6.966000e+01</td>\n",
              "      <td>6.450000e-01</td>\n",
              "      <td>NaN</td>\n",
              "      <td>NaN</td>\n",
              "      <td>NaN</td>\n",
              "      <td>NaN</td>\n",
              "    </tr>\n",
              "  </tbody>\n",
              "</table>\n",
              "<p>8 rows × 62 columns</p>\n",
              "</div>"
            ],
            "text/plain": [
              "        total_cases      new_cases  new_cases_smoothed   total_deaths  \\\n",
              "count  9.870000e+02     986.000000          981.000000     946.000000   \n",
              "mean   2.281600e+07   45255.048682        45475.742387  302762.295983   \n",
              "std    1.705734e+07   75318.339204        74808.175425  201823.757718   \n",
              "min    1.000000e+00       0.000000            0.000000       1.000000   \n",
              "25%    6.511458e+06    5912.750000         6331.143000  123225.500000   \n",
              "50%    2.890998e+07   17371.500000        17805.857000  396240.500000   \n",
              "75%    4.237529e+07   45889.500000        45622.000000  511148.750000   \n",
              "max    4.462132e+07  414188.000000       391232.000000  528847.000000   \n",
              "\n",
              "        new_deaths  new_deaths_smoothed  total_cases_per_million  \\\n",
              "count   944.000000           939.000000               987.000000   \n",
              "mean    552.408898           553.023592             16209.568432   \n",
              "std     842.952096           804.894928             12118.338920   \n",
              "min       0.000000             0.286000                 0.001000   \n",
              "25%      58.750000            69.428500              4626.048500   \n",
              "50%     290.500000           312.857000             20539.015000   \n",
              "75%     585.000000           621.214500             30105.414500   \n",
              "max    4529.000000          4190.000000             31701.098000   \n",
              "\n",
              "       new_cases_per_million  new_cases_smoothed_per_million  \\\n",
              "count             986.000000                      981.000000   \n",
              "mean               32.151333                       32.308137   \n",
              "std                53.509735                       53.147286   \n",
              "min                 0.000000                        0.000000   \n",
              "25%                 4.201000                        4.498000   \n",
              "50%                12.341500                       12.650000   \n",
              "75%                32.602250                       32.412000   \n",
              "max               294.259000                      277.950000   \n",
              "\n",
              "       total_deaths_per_million  ...  female_smokers  male_smokers  \\\n",
              "count                946.000000  ...    9.870000e+02  9.870000e+02   \n",
              "mean                 215.096678  ...    1.900000e+00  2.060000e+01   \n",
              "std                  143.385163  ...    2.221572e-16  3.554515e-15   \n",
              "min                    0.001000  ...    1.900000e+00  2.060000e+01   \n",
              "25%                   87.545250  ...    1.900000e+00  2.060000e+01   \n",
              "50%                  281.508000  ...    1.900000e+00  2.060000e+01   \n",
              "75%                  363.144250  ...    1.900000e+00  2.060000e+01   \n",
              "max                  375.718000  ...    1.900000e+00  2.060000e+01   \n",
              "\n",
              "       handwashing_facilities  hospital_beds_per_thousand  life_expectancy  \\\n",
              "count            9.870000e+02                9.870000e+02     9.870000e+02   \n",
              "mean             5.955000e+01                5.300000e-01     6.966000e+01   \n",
              "std              7.109030e-15                1.110786e-16     1.421806e-14   \n",
              "min              5.955000e+01                5.300000e-01     6.966000e+01   \n",
              "25%              5.955000e+01                5.300000e-01     6.966000e+01   \n",
              "50%              5.955000e+01                5.300000e-01     6.966000e+01   \n",
              "75%              5.955000e+01                5.300000e-01     6.966000e+01   \n",
              "max              5.955000e+01                5.300000e-01     6.966000e+01   \n",
              "\n",
              "       human_development_index  excess_mortality_cumulative_absolute  \\\n",
              "count             9.870000e+02                                   0.0   \n",
              "mean              6.450000e-01                                   NaN   \n",
              "std               2.221572e-16                                   NaN   \n",
              "min               6.450000e-01                                   NaN   \n",
              "25%               6.450000e-01                                   NaN   \n",
              "50%               6.450000e-01                                   NaN   \n",
              "75%               6.450000e-01                                   NaN   \n",
              "max               6.450000e-01                                   NaN   \n",
              "\n",
              "       excess_mortality_cumulative  excess_mortality  \\\n",
              "count                          0.0               0.0   \n",
              "mean                           NaN               NaN   \n",
              "std                            NaN               NaN   \n",
              "min                            NaN               NaN   \n",
              "25%                            NaN               NaN   \n",
              "50%                            NaN               NaN   \n",
              "75%                            NaN               NaN   \n",
              "max                            NaN               NaN   \n",
              "\n",
              "       excess_mortality_cumulative_per_million  \n",
              "count                                      0.0  \n",
              "mean                                       NaN  \n",
              "std                                        NaN  \n",
              "min                                        NaN  \n",
              "25%                                        NaN  \n",
              "50%                                        NaN  \n",
              "75%                                        NaN  \n",
              "max                                        NaN  \n",
              "\n",
              "[8 rows x 62 columns]"
            ]
          },
          "execution_count": 8,
          "metadata": {},
          "output_type": "execute_result"
        }
      ],
      "source": [
        "df.describe()"
      ]
    },
    {
      "cell_type": "code",
      "execution_count": 9,
      "metadata": {
        "id": "hZRcA64IRqsU",
        "outputId": "db6261a4-9341-4db5-ed5b-668a9b7cd238"
      },
      "outputs": [
        {
          "name": "stdout",
          "output_type": "stream",
          "text": [
            "<class 'pandas.core.frame.DataFrame'>\n",
            "Int64Index: 987 entries, 91636 to 92622\n",
            "Data columns (total 67 columns):\n",
            " #   Column                                      Non-Null Count  Dtype  \n",
            "---  ------                                      --------------  -----  \n",
            " 0   iso_code                                    987 non-null    object \n",
            " 1   continent                                   987 non-null    object \n",
            " 2   location                                    987 non-null    object \n",
            " 3   date                                        987 non-null    object \n",
            " 4   total_cases                                 987 non-null    float64\n",
            " 5   new_cases                                   986 non-null    float64\n",
            " 6   new_cases_smoothed                          981 non-null    float64\n",
            " 7   total_deaths                                946 non-null    float64\n",
            " 8   new_deaths                                  944 non-null    float64\n",
            " 9   new_deaths_smoothed                         939 non-null    float64\n",
            " 10  total_cases_per_million                     987 non-null    float64\n",
            " 11  new_cases_per_million                       986 non-null    float64\n",
            " 12  new_cases_smoothed_per_million              981 non-null    float64\n",
            " 13  total_deaths_per_million                    946 non-null    float64\n",
            " 14  new_deaths_per_million                      944 non-null    float64\n",
            " 15  new_deaths_smoothed_per_million             939 non-null    float64\n",
            " 16  reproduction_rate                           931 non-null    float64\n",
            " 17  icu_patients                                0 non-null      float64\n",
            " 18  icu_patients_per_million                    0 non-null      float64\n",
            " 19  hosp_patients                               0 non-null      float64\n",
            " 20  hosp_patients_per_million                   0 non-null      float64\n",
            " 21  weekly_icu_admissions                       0 non-null      float64\n",
            " 22  weekly_icu_admissions_per_million           0 non-null      float64\n",
            " 23  weekly_hosp_admissions                      0 non-null      float64\n",
            " 24  weekly_hosp_admissions_per_million          0 non-null      float64\n",
            " 25  total_tests                                 810 non-null    float64\n",
            " 26  new_tests                                   795 non-null    float64\n",
            " 27  total_tests_per_thousand                    810 non-null    float64\n",
            " 28  new_tests_per_thousand                      795 non-null    float64\n",
            " 29  new_tests_smoothed                          824 non-null    float64\n",
            " 30  new_tests_smoothed_per_thousand             824 non-null    float64\n",
            " 31  positive_rate                               816 non-null    float64\n",
            " 32  tests_per_case                              816 non-null    float64\n",
            " 33  tests_units                                 831 non-null    object \n",
            " 34  total_vaccinations                          616 non-null    float64\n",
            " 35  people_vaccinated                           616 non-null    float64\n",
            " 36  people_fully_vaccinated                     587 non-null    float64\n",
            " 37  total_boosters                              263 non-null    float64\n",
            " 38  new_vaccinations                            599 non-null    float64\n",
            " 39  new_vaccinations_smoothed                   635 non-null    float64\n",
            " 40  total_vaccinations_per_hundred              616 non-null    float64\n",
            " 41  people_vaccinated_per_hundred               616 non-null    float64\n",
            " 42  people_fully_vaccinated_per_hundred         587 non-null    float64\n",
            " 43  total_boosters_per_hundred                  263 non-null    float64\n",
            " 44  new_vaccinations_smoothed_per_million       635 non-null    float64\n",
            " 45  new_people_vaccinated_smoothed              635 non-null    float64\n",
            " 46  new_people_vaccinated_smoothed_per_hundred  635 non-null    float64\n",
            " 47  stringency_index                            980 non-null    float64\n",
            " 48  population                                  987 non-null    float64\n",
            " 49  population_density                          987 non-null    float64\n",
            " 50  median_age                                  987 non-null    float64\n",
            " 51  aged_65_older                               987 non-null    float64\n",
            " 52  aged_70_older                               987 non-null    float64\n",
            " 53  gdp_per_capita                              987 non-null    float64\n",
            " 54  extreme_poverty                             987 non-null    float64\n",
            " 55  cardiovasc_death_rate                       987 non-null    float64\n",
            " 56  diabetes_prevalence                         987 non-null    float64\n",
            " 57  female_smokers                              987 non-null    float64\n",
            " 58  male_smokers                                987 non-null    float64\n",
            " 59  handwashing_facilities                      987 non-null    float64\n",
            " 60  hospital_beds_per_thousand                  987 non-null    float64\n",
            " 61  life_expectancy                             987 non-null    float64\n",
            " 62  human_development_index                     987 non-null    float64\n",
            " 63  excess_mortality_cumulative_absolute        0 non-null      float64\n",
            " 64  excess_mortality_cumulative                 0 non-null      float64\n",
            " 65  excess_mortality                            0 non-null      float64\n",
            " 66  excess_mortality_cumulative_per_million     0 non-null      float64\n",
            "dtypes: float64(62), object(5)\n",
            "memory usage: 524.3+ KB\n"
          ]
        }
      ],
      "source": [
        "df.info()"
      ]
    },
    {
      "cell_type": "markdown",
      "metadata": {
        "id": "RmRVjLNvRqsU"
      },
      "source": [
        "## Univariate Analysis"
      ]
    },
    {
      "cell_type": "markdown",
      "metadata": {
        "id": "4KoGTtnTRqsU"
      },
      "source": [
        "#### Histogram of all Numerical columns:"
      ]
    },
    {
      "cell_type": "code",
      "execution_count": null,
      "metadata": {},
      "outputs": [],
      "source": [
        "#Since there are lots of numerical column, we use a for loop in-order to plot\n",
        "#histograms for all numerical columns\n",
        "\n",
        "for i in df:\n",
        "    if (df[i].dtype!='object'):\n",
        "        plt.figure()\n",
        "        sns.distplot(df[i],kde=False)\n",
        "        plt.show()"
      ]
    },
    {
      "cell_type": "markdown",
      "metadata": {
        "id": "o84G3JfmRqsV"
      },
      "source": [
        "#### Mean, Median and Mode of each column"
      ]
    },
    {
      "cell_type": "code",
      "execution_count": null,
      "metadata": {
        "id": "TA4N3C-wRqsV",
        "outputId": "eac1e961-579f-4402-f01d-f275454c1258"
      },
      "outputs": [],
      "source": [
        "df.mean()"
      ]
    },
    {
      "cell_type": "code",
      "execution_count": null,
      "metadata": {
        "id": "J8FJNIHARqsW",
        "outputId": "05b48f01-bcfc-472b-d559-8f62bfec4724"
      },
      "outputs": [],
      "source": [
        "df.median()"
      ]
    },
    {
      "cell_type": "code",
      "execution_count": null,
      "metadata": {
        "id": "7k0eZszSRqsW",
        "outputId": "d8acbd52-4137-4b74-ced3-b36fdd27a733"
      },
      "outputs": [],
      "source": [
        "df.mode()"
      ]
    },
    {
      "cell_type": "markdown",
      "metadata": {
        "id": "j4GauRtyRqsW"
      },
      "source": [
        "## 2.Bivariate Analysis"
      ]
    },
    {
      "cell_type": "code",
      "execution_count": null,
      "metadata": {
        "id": "WO0Gs4LDRqsW",
        "outputId": "d14b0fd7-5a6e-4a61-8ab4-b74f38dededf"
      },
      "outputs": [],
      "source": [
        "#Using two for loops for plotting scatter plots of all numerical columns versus one another\n",
        "\n",
        "for column1 in df:\n",
        "    for column2 in df:\n",
        "        if(df[column1].dtype!='object'):\n",
        "            if(df[column2].dtype!='object'):\n",
        "                if(column1!=column2):\n",
        "                    plt.figure()\n",
        "                    sns.scatterplot(x=df[column1],y=df[column2])\n",
        "                    plt.show()"
      ]
    },
    {
      "cell_type": "code",
      "execution_count": null,
      "metadata": {
        "id": "qMPOZATnRqsX",
        "outputId": "53934b90-00ef-40e3-809b-b069e5696b93"
      },
      "outputs": [],
      "source": [
        "#Using two for loops for plotting line plots of all numerical columns versus one another\n",
        "\n",
        "for column1 in df:\n",
        "    for column2 in df:\n",
        "        if(df[column1].dtype!='object'):\n",
        "            if(df[column2].dtype!='object'):\n",
        "                if(column1!=column2):\n",
        "                    plt.figure()\n",
        "                    sns.lineplot(x=df[column1],y=df[column2])\n",
        "                    plt.show()"
      ]
    },
    {
      "cell_type": "markdown",
      "metadata": {
        "id": "gN-sEJzqRqsX"
      },
      "source": [
        "## Handling of Missing Data"
      ]
    },
    {
      "cell_type": "code",
      "execution_count": 10,
      "metadata": {
        "id": "WktMN1eARqsY",
        "outputId": "e4244865-7d4d-4b1b-ae9f-b26b3e48c8f9",
        "scrolled": true
      },
      "outputs": [
        {
          "data": {
            "text/plain": [
              "iso_code                                   987\n",
              "continent                                  987\n",
              "location                                   987\n",
              "date                                       987\n",
              "total_cases                                987\n",
              "                                          ... \n",
              "human_development_index                    987\n",
              "excess_mortality_cumulative_absolute         0\n",
              "excess_mortality_cumulative                  0\n",
              "excess_mortality                             0\n",
              "excess_mortality_cumulative_per_million      0\n",
              "Length: 67, dtype: int64"
            ]
          },
          "execution_count": 10,
          "metadata": {},
          "output_type": "execute_result"
        }
      ],
      "source": [
        "df.count()"
      ]
    },
    {
      "cell_type": "code",
      "execution_count": 11,
      "metadata": {
        "id": "mfgXpb1zRqsY",
        "outputId": "a6459511-2643-4270-98e1-f2b4733ff392"
      },
      "outputs": [
        {
          "data": {
            "text/plain": [
              "iso_code                                     0\n",
              "continent                                    0\n",
              "location                                     0\n",
              "date                                         0\n",
              "total_cases                                  0\n",
              "                                          ... \n",
              "human_development_index                      0\n",
              "excess_mortality_cumulative_absolute       987\n",
              "excess_mortality_cumulative                987\n",
              "excess_mortality                           987\n",
              "excess_mortality_cumulative_per_million    987\n",
              "Length: 67, dtype: int64"
            ]
          },
          "execution_count": 11,
          "metadata": {},
          "output_type": "execute_result"
        }
      ],
      "source": [
        "#Finding the count of null values in the dataset\n",
        "\n",
        "df.isna().sum()"
      ]
    },
    {
      "cell_type": "code",
      "execution_count": 23,
      "metadata": {},
      "outputs": [
        {
          "name": "stdout",
          "output_type": "stream",
          "text": [
            "iso_code\n",
            "continent\n",
            "location\n"
          ]
        }
      ],
      "source": [
        "for x in df.columns:\n",
        "    if df[x].dtype=='object':\n",
        "        print(x)"
      ]
    },
    {
      "cell_type": "code",
      "execution_count": 19,
      "metadata": {
        "id": "HP82i6knRqsZ"
      },
      "outputs": [],
      "source": [
        "for i in df.columns:\n",
        "    if((df[i].isna().sum())>(df[i].count()/2)):\n",
        "        df = df.drop(columns=i, axis=1)"
      ]
    },
    {
      "cell_type": "code",
      "execution_count": 29,
      "metadata": {
        "id": "PsciP4ghRqsZ",
        "outputId": "eb3191b0-a6b9-41dc-fc62-9824f8de3bff",
        "scrolled": true
      },
      "outputs": [
        {
          "name": "stdout",
          "output_type": "stream",
          "text": [
            "(223309, 29)\n"
          ]
        },
        {
          "data": {
            "text/plain": [
              "iso_code                               0\n",
              "continent                          12829\n",
              "location                               0\n",
              "date                                   0\n",
              "total_cases                         9160\n",
              "new_cases                           9391\n",
              "new_cases_smoothed                 10587\n",
              "total_deaths                       28312\n",
              "new_deaths                         28366\n",
              "new_deaths_smoothed                29546\n",
              "total_cases_per_million            10139\n",
              "new_cases_per_million              10370\n",
              "new_cases_smoothed_per_million     11561\n",
              "total_deaths_per_million           29278\n",
              "new_deaths_per_million             29332\n",
              "new_deaths_smoothed_per_million    30507\n",
              "reproduction_rate                  56592\n",
              "stringency_index                   55014\n",
              "population                          1296\n",
              "population_density                 24961\n",
              "median_age                         39760\n",
              "aged_65_older                      41697\n",
              "aged_70_older                      40721\n",
              "gdp_per_capita                     40396\n",
              "cardiovasc_death_rate              40251\n",
              "diabetes_prevalence                30858\n",
              "hospital_beds_per_thousand         60394\n",
              "life_expectancy                    14638\n",
              "human_development_index            44754\n",
              "dtype: int64"
            ]
          },
          "execution_count": 29,
          "metadata": {},
          "output_type": "execute_result"
        }
      ],
      "source": [
        "print(df.shape)\n",
        "df.isna().sum()"
      ]
    },
    {
      "cell_type": "code",
      "execution_count": 31,
      "metadata": {},
      "outputs": [
        {
          "name": "stderr",
          "output_type": "stream",
          "text": [
            "/tmp/ipykernel_28955/847245728.py:4: FutureWarning: DataFrame.mean and DataFrame.median with numeric_only=None will include datetime64 and datetime64tz columns in a future version.\n",
            "  df = df.fillna(df.mean())\n"
          ]
        }
      ],
      "source": [
        "# Removing cols with dtype 'object'\n",
        "df = df.drop(columns=['iso_code', 'location', 'continent'])\n",
        "# Filling remaining null values with mean of the corresponding column\n",
        "df = df.fillna(df.mean())"
      ]
    },
    {
      "cell_type": "code",
      "execution_count": 38,
      "metadata": {},
      "outputs": [],
      "source": [
        "df[\"date\"] = df[\"date\"].map(dt.datetime.toordinal)"
      ]
    },
    {
      "cell_type": "markdown",
      "metadata": {
        "id": "pWxD3x4hRqsa"
      },
      "source": [
        "## Splitting Data"
      ]
    },
    {
      "cell_type": "code",
      "execution_count": 39,
      "metadata": {
        "id": "rEv7UeteRqsa"
      },
      "outputs": [],
      "source": [
        "x=df.drop(['total_cases'],axis=1).values"
      ]
    },
    {
      "cell_type": "code",
      "execution_count": 40,
      "metadata": {
        "id": "9-wmRScKRqsb"
      },
      "outputs": [],
      "source": [
        "y=df['total_cases'].values"
      ]
    },
    {
      "cell_type": "code",
      "execution_count": 41,
      "metadata": {
        "id": "NDfuvO5ERqsc"
      },
      "outputs": [],
      "source": [
        "from sklearn.model_selection import train_test_split\n",
        "x_train,x_test,y_train,y_test = train_test_split(x,y,test_size=0.2,random_state=0)"
      ]
    },
    {
      "cell_type": "markdown",
      "metadata": {
        "id": "l3yu0PLWRqsc"
      },
      "source": [
        "## Modelling"
      ]
    },
    {
      "cell_type": "code",
      "execution_count": 51,
      "metadata": {
        "id": "_tu-M5fKRqsc"
      },
      "outputs": [],
      "source": [
        "from sklearn.linear_model import LinearRegression\n",
        "from sklearn.ensemble import RandomForestRegressor\n",
        "from sklearn.tree import DecisionTreeRegressor"
      ]
    },
    {
      "cell_type": "markdown",
      "metadata": {
        "id": "oTILsVA3Rqsd"
      },
      "source": [
        "### 1.Linear Regression"
      ]
    },
    {
      "cell_type": "code",
      "execution_count": 43,
      "metadata": {
        "id": "tfkrD6d6Rqsd",
        "outputId": "531767fe-fbef-4bab-ac15-27bcd1c9cbb1"
      },
      "outputs": [
        {
          "data": {
            "text/html": [
              "<style>#sk-container-id-1 {color: black;background-color: white;}#sk-container-id-1 pre{padding: 0;}#sk-container-id-1 div.sk-toggleable {background-color: white;}#sk-container-id-1 label.sk-toggleable__label {cursor: pointer;display: block;width: 100%;margin-bottom: 0;padding: 0.3em;box-sizing: border-box;text-align: center;}#sk-container-id-1 label.sk-toggleable__label-arrow:before {content: \"▸\";float: left;margin-right: 0.25em;color: #696969;}#sk-container-id-1 label.sk-toggleable__label-arrow:hover:before {color: black;}#sk-container-id-1 div.sk-estimator:hover label.sk-toggleable__label-arrow:before {color: black;}#sk-container-id-1 div.sk-toggleable__content {max-height: 0;max-width: 0;overflow: hidden;text-align: left;background-color: #f0f8ff;}#sk-container-id-1 div.sk-toggleable__content pre {margin: 0.2em;color: black;border-radius: 0.25em;background-color: #f0f8ff;}#sk-container-id-1 input.sk-toggleable__control:checked~div.sk-toggleable__content {max-height: 200px;max-width: 100%;overflow: auto;}#sk-container-id-1 input.sk-toggleable__control:checked~label.sk-toggleable__label-arrow:before {content: \"▾\";}#sk-container-id-1 div.sk-estimator input.sk-toggleable__control:checked~label.sk-toggleable__label {background-color: #d4ebff;}#sk-container-id-1 div.sk-label input.sk-toggleable__control:checked~label.sk-toggleable__label {background-color: #d4ebff;}#sk-container-id-1 input.sk-hidden--visually {border: 0;clip: rect(1px 1px 1px 1px);clip: rect(1px, 1px, 1px, 1px);height: 1px;margin: -1px;overflow: hidden;padding: 0;position: absolute;width: 1px;}#sk-container-id-1 div.sk-estimator {font-family: monospace;background-color: #f0f8ff;border: 1px dotted black;border-radius: 0.25em;box-sizing: border-box;margin-bottom: 0.5em;}#sk-container-id-1 div.sk-estimator:hover {background-color: #d4ebff;}#sk-container-id-1 div.sk-parallel-item::after {content: \"\";width: 100%;border-bottom: 1px solid gray;flex-grow: 1;}#sk-container-id-1 div.sk-label:hover label.sk-toggleable__label {background-color: #d4ebff;}#sk-container-id-1 div.sk-serial::before {content: \"\";position: absolute;border-left: 1px solid gray;box-sizing: border-box;top: 0;bottom: 0;left: 50%;z-index: 0;}#sk-container-id-1 div.sk-serial {display: flex;flex-direction: column;align-items: center;background-color: white;padding-right: 0.2em;padding-left: 0.2em;position: relative;}#sk-container-id-1 div.sk-item {position: relative;z-index: 1;}#sk-container-id-1 div.sk-parallel {display: flex;align-items: stretch;justify-content: center;background-color: white;position: relative;}#sk-container-id-1 div.sk-item::before, #sk-container-id-1 div.sk-parallel-item::before {content: \"\";position: absolute;border-left: 1px solid gray;box-sizing: border-box;top: 0;bottom: 0;left: 50%;z-index: -1;}#sk-container-id-1 div.sk-parallel-item {display: flex;flex-direction: column;z-index: 1;position: relative;background-color: white;}#sk-container-id-1 div.sk-parallel-item:first-child::after {align-self: flex-end;width: 50%;}#sk-container-id-1 div.sk-parallel-item:last-child::after {align-self: flex-start;width: 50%;}#sk-container-id-1 div.sk-parallel-item:only-child::after {width: 0;}#sk-container-id-1 div.sk-dashed-wrapped {border: 1px dashed gray;margin: 0 0.4em 0.5em 0.4em;box-sizing: border-box;padding-bottom: 0.4em;background-color: white;}#sk-container-id-1 div.sk-label label {font-family: monospace;font-weight: bold;display: inline-block;line-height: 1.2em;}#sk-container-id-1 div.sk-label-container {text-align: center;}#sk-container-id-1 div.sk-container {/* jupyter's `normalize.less` sets `[hidden] { display: none; }` but bootstrap.min.css set `[hidden] { display: none !important; }` so we also need the `!important` here to be able to override the default hidden behavior on the sphinx rendered scikit-learn.org. See: https://github.com/scikit-learn/scikit-learn/issues/21755 */display: inline-block !important;position: relative;}#sk-container-id-1 div.sk-text-repr-fallback {display: none;}</style><div id=\"sk-container-id-1\" class=\"sk-top-container\"><div class=\"sk-text-repr-fallback\"><pre>LinearRegression()</pre><b>In a Jupyter environment, please rerun this cell to show the HTML representation or trust the notebook. <br />On GitHub, the HTML representation is unable to render, please try loading this page with nbviewer.org.</b></div><div class=\"sk-container\" hidden><div class=\"sk-item\"><div class=\"sk-estimator sk-toggleable\"><input class=\"sk-toggleable__control sk-hidden--visually\" id=\"sk-estimator-id-1\" type=\"checkbox\" checked><label for=\"sk-estimator-id-1\" class=\"sk-toggleable__label sk-toggleable__label-arrow\">LinearRegression</label><div class=\"sk-toggleable__content\"><pre>LinearRegression()</pre></div></div></div></div></div>"
            ],
            "text/plain": [
              "LinearRegression()"
            ]
          },
          "execution_count": 43,
          "metadata": {},
          "output_type": "execute_result"
        }
      ],
      "source": [
        "reg1 = LinearRegression()\n",
        "reg1.fit(x_train,y_train)"
      ]
    },
    {
      "cell_type": "code",
      "execution_count": 44,
      "metadata": {
        "id": "t8BcTSZmRqsd"
      },
      "outputs": [],
      "source": [
        "linear_y_pred=reg1.predict(x_test)"
      ]
    },
    {
      "cell_type": "markdown",
      "metadata": {
        "id": "oCJc12cdRqsd"
      },
      "source": [
        "### 2.Random Forest Regression"
      ]
    },
    {
      "cell_type": "code",
      "execution_count": 45,
      "metadata": {
        "id": "jSDmEjeqRqsd",
        "outputId": "dfc34ec7-759f-4357-8746-ceca1aa24f4e"
      },
      "outputs": [
        {
          "data": {
            "text/html": [
              "<style>#sk-container-id-2 {color: black;background-color: white;}#sk-container-id-2 pre{padding: 0;}#sk-container-id-2 div.sk-toggleable {background-color: white;}#sk-container-id-2 label.sk-toggleable__label {cursor: pointer;display: block;width: 100%;margin-bottom: 0;padding: 0.3em;box-sizing: border-box;text-align: center;}#sk-container-id-2 label.sk-toggleable__label-arrow:before {content: \"▸\";float: left;margin-right: 0.25em;color: #696969;}#sk-container-id-2 label.sk-toggleable__label-arrow:hover:before {color: black;}#sk-container-id-2 div.sk-estimator:hover label.sk-toggleable__label-arrow:before {color: black;}#sk-container-id-2 div.sk-toggleable__content {max-height: 0;max-width: 0;overflow: hidden;text-align: left;background-color: #f0f8ff;}#sk-container-id-2 div.sk-toggleable__content pre {margin: 0.2em;color: black;border-radius: 0.25em;background-color: #f0f8ff;}#sk-container-id-2 input.sk-toggleable__control:checked~div.sk-toggleable__content {max-height: 200px;max-width: 100%;overflow: auto;}#sk-container-id-2 input.sk-toggleable__control:checked~label.sk-toggleable__label-arrow:before {content: \"▾\";}#sk-container-id-2 div.sk-estimator input.sk-toggleable__control:checked~label.sk-toggleable__label {background-color: #d4ebff;}#sk-container-id-2 div.sk-label input.sk-toggleable__control:checked~label.sk-toggleable__label {background-color: #d4ebff;}#sk-container-id-2 input.sk-hidden--visually {border: 0;clip: rect(1px 1px 1px 1px);clip: rect(1px, 1px, 1px, 1px);height: 1px;margin: -1px;overflow: hidden;padding: 0;position: absolute;width: 1px;}#sk-container-id-2 div.sk-estimator {font-family: monospace;background-color: #f0f8ff;border: 1px dotted black;border-radius: 0.25em;box-sizing: border-box;margin-bottom: 0.5em;}#sk-container-id-2 div.sk-estimator:hover {background-color: #d4ebff;}#sk-container-id-2 div.sk-parallel-item::after {content: \"\";width: 100%;border-bottom: 1px solid gray;flex-grow: 1;}#sk-container-id-2 div.sk-label:hover label.sk-toggleable__label {background-color: #d4ebff;}#sk-container-id-2 div.sk-serial::before {content: \"\";position: absolute;border-left: 1px solid gray;box-sizing: border-box;top: 0;bottom: 0;left: 50%;z-index: 0;}#sk-container-id-2 div.sk-serial {display: flex;flex-direction: column;align-items: center;background-color: white;padding-right: 0.2em;padding-left: 0.2em;position: relative;}#sk-container-id-2 div.sk-item {position: relative;z-index: 1;}#sk-container-id-2 div.sk-parallel {display: flex;align-items: stretch;justify-content: center;background-color: white;position: relative;}#sk-container-id-2 div.sk-item::before, #sk-container-id-2 div.sk-parallel-item::before {content: \"\";position: absolute;border-left: 1px solid gray;box-sizing: border-box;top: 0;bottom: 0;left: 50%;z-index: -1;}#sk-container-id-2 div.sk-parallel-item {display: flex;flex-direction: column;z-index: 1;position: relative;background-color: white;}#sk-container-id-2 div.sk-parallel-item:first-child::after {align-self: flex-end;width: 50%;}#sk-container-id-2 div.sk-parallel-item:last-child::after {align-self: flex-start;width: 50%;}#sk-container-id-2 div.sk-parallel-item:only-child::after {width: 0;}#sk-container-id-2 div.sk-dashed-wrapped {border: 1px dashed gray;margin: 0 0.4em 0.5em 0.4em;box-sizing: border-box;padding-bottom: 0.4em;background-color: white;}#sk-container-id-2 div.sk-label label {font-family: monospace;font-weight: bold;display: inline-block;line-height: 1.2em;}#sk-container-id-2 div.sk-label-container {text-align: center;}#sk-container-id-2 div.sk-container {/* jupyter's `normalize.less` sets `[hidden] { display: none; }` but bootstrap.min.css set `[hidden] { display: none !important; }` so we also need the `!important` here to be able to override the default hidden behavior on the sphinx rendered scikit-learn.org. See: https://github.com/scikit-learn/scikit-learn/issues/21755 */display: inline-block !important;position: relative;}#sk-container-id-2 div.sk-text-repr-fallback {display: none;}</style><div id=\"sk-container-id-2\" class=\"sk-top-container\"><div class=\"sk-text-repr-fallback\"><pre>RandomForestRegressor(n_estimators=10, random_state=0)</pre><b>In a Jupyter environment, please rerun this cell to show the HTML representation or trust the notebook. <br />On GitHub, the HTML representation is unable to render, please try loading this page with nbviewer.org.</b></div><div class=\"sk-container\" hidden><div class=\"sk-item\"><div class=\"sk-estimator sk-toggleable\"><input class=\"sk-toggleable__control sk-hidden--visually\" id=\"sk-estimator-id-2\" type=\"checkbox\" checked><label for=\"sk-estimator-id-2\" class=\"sk-toggleable__label sk-toggleable__label-arrow\">RandomForestRegressor</label><div class=\"sk-toggleable__content\"><pre>RandomForestRegressor(n_estimators=10, random_state=0)</pre></div></div></div></div></div>"
            ],
            "text/plain": [
              "RandomForestRegressor(n_estimators=10, random_state=0)"
            ]
          },
          "execution_count": 45,
          "metadata": {},
          "output_type": "execute_result"
        }
      ],
      "source": [
        "reg2 = RandomForestRegressor(n_estimators=10,random_state=0)\n",
        "reg2.fit(x_train,y_train)"
      ]
    },
    {
      "cell_type": "code",
      "execution_count": 46,
      "metadata": {
        "id": "e1dNruzARqsd"
      },
      "outputs": [],
      "source": [
        "rfr_y_pred=reg2.predict(x_test)"
      ]
    },
    {
      "cell_type": "code",
      "execution_count": 52,
      "metadata": {},
      "outputs": [],
      "source": [
        "reg3 = DecisionTreeRegressor(random_state=0)\n",
        "reg3.fit(x_train, y_train)\n",
        "dec_y_pred=reg3.predict(x_test)"
      ]
    },
    {
      "cell_type": "code",
      "execution_count": 53,
      "metadata": {},
      "outputs": [
        {
          "data": {
            "text/plain": [
              "0.9999329985406502"
            ]
          },
          "execution_count": 53,
          "metadata": {},
          "output_type": "execute_result"
        }
      ],
      "source": [
        "reg3.score(x_test, y_test)"
      ]
    },
    {
      "cell_type": "markdown",
      "metadata": {
        "id": "0YMUJ2D1Rqse"
      },
      "source": [
        "## Accuracy of the models:"
      ]
    },
    {
      "cell_type": "markdown",
      "metadata": {
        "id": "UZGElWUqRqse"
      },
      "source": [
        "### 1.Linear Regression"
      ]
    },
    {
      "cell_type": "code",
      "execution_count": 47,
      "metadata": {
        "id": "yFCgBGa-Rqse",
        "outputId": "7e58790c-e59a-4af8-cae9-3feff1c71f38",
        "scrolled": true
      },
      "outputs": [
        {
          "data": {
            "text/plain": [
              "0.9287995886968696"
            ]
          },
          "execution_count": 47,
          "metadata": {},
          "output_type": "execute_result"
        }
      ],
      "source": [
        "reg1.score(x_test,y_test)"
      ]
    },
    {
      "cell_type": "code",
      "execution_count": 48,
      "metadata": {
        "id": "AqTv5dIERqse",
        "outputId": "590cc848-98d3-4114-a07d-e79d95afef1e"
      },
      "outputs": [
        {
          "name": "stdout",
          "output_type": "stream",
          "text": [
            "The accuracy of Linear Regression Model is 92.87995886968696%\n"
          ]
        }
      ],
      "source": [
        "acc1 = (reg1.score(x_test,y_test))*100\n",
        "print(f\"The accuracy of Linear Regression Model is {acc1}%\")"
      ]
    },
    {
      "cell_type": "markdown",
      "metadata": {
        "id": "D2EJznILRqsf"
      },
      "source": [
        "### 2.Random Forest Regression"
      ]
    },
    {
      "cell_type": "code",
      "execution_count": 49,
      "metadata": {
        "id": "cawwShKqRqsf",
        "outputId": "769a19bf-06ec-49fc-fd2f-a10015f94b29"
      },
      "outputs": [
        {
          "data": {
            "text/plain": [
              "0.9999756381027337"
            ]
          },
          "execution_count": 49,
          "metadata": {},
          "output_type": "execute_result"
        }
      ],
      "source": [
        "reg2.score(x_test,y_test)"
      ]
    },
    {
      "cell_type": "code",
      "execution_count": 50,
      "metadata": {
        "id": "LtvG-WmPRqsf",
        "outputId": "5cabe123-b72f-4986-fd40-c6e12d700a5e"
      },
      "outputs": [
        {
          "name": "stdout",
          "output_type": "stream",
          "text": [
            "The accuracy of Random Forest Regression Model is 99.99756381027338%\n"
          ]
        }
      ],
      "source": [
        "acc2 = (reg2.score(x_test,y_test))*100\n",
        "print(f\"The accuracy of Random Forest Regression Model is {acc2}%\")"
      ]
    },
    {
      "cell_type": "markdown",
      "metadata": {
        "id": "mmhKxS47Rqsf"
      },
      "source": [
        "## Predicting Total cases for a new date"
      ]
    },
    {
      "cell_type": "code",
      "execution_count": null,
      "metadata": {
        "id": "JeGrKzUDRqsg",
        "outputId": "c4c5ca95-9b06-4bc2-ca74-a912bc39814d"
      },
      "outputs": [],
      "source": [
        "date1 = input(\"Enter a date(yyyy-mm-dd):\")\n",
        "date=pd.to_datetime(date1)\n",
        "date=date.toordinal()\n",
        "date = np.array(date)"
      ]
    },
    {
      "cell_type": "code",
      "execution_count": null,
      "metadata": {
        "id": "yfyK9RDjRqsg"
      },
      "outputs": [],
      "source": [
        "#Using mean values to create a new data\n",
        "\n",
        "new = (pd.DataFrame(df.mean())).transpose()"
      ]
    },
    {
      "cell_type": "code",
      "execution_count": null,
      "metadata": {
        "id": "uagdyXuORqsg",
        "outputId": "d38867c4-9d5b-4550-b811-293f77d3cb2a"
      },
      "outputs": [],
      "source": [
        "new.shape"
      ]
    },
    {
      "cell_type": "code",
      "execution_count": null,
      "metadata": {
        "id": "9hrneyX-Rqsg"
      },
      "outputs": [],
      "source": [
        "#Replacing the data's date with the user entered date\n",
        "\n",
        "new['date']=date\n",
        "new=new.drop('total_cases',axis=1).values"
      ]
    },
    {
      "cell_type": "markdown",
      "metadata": {
        "id": "HY8WZL4YRqsg"
      },
      "source": [
        "### Linear Regression"
      ]
    },
    {
      "cell_type": "code",
      "execution_count": null,
      "metadata": {
        "id": "odDEMCtnRqsg",
        "outputId": "ba5ebf20-61be-4504-838a-d3a1f38cc7d6"
      },
      "outputs": [],
      "source": [
        "print(f\"The predicted no of total cases for the date {date1} is {reg1.predict(new)}\")"
      ]
    },
    {
      "cell_type": "markdown",
      "metadata": {
        "id": "Ji8RLh6nRqsh"
      },
      "source": [
        "### Random Forest Regression"
      ]
    },
    {
      "cell_type": "code",
      "execution_count": null,
      "metadata": {
        "id": "VSwfrtJ0Rqsh",
        "outputId": "24d78906-6bb8-473e-f290-ed14a326fa82"
      },
      "outputs": [],
      "source": [
        "print(f\"The predicted no of total cases for the date {date1} is {reg2.predict(new)}\")"
      ]
    },
    {
      "cell_type": "markdown",
      "metadata": {
        "id": "nLOwoBzHRqsh"
      },
      "source": [
        "This project is submitted on 23-07-2020 by Dhanavikram S of Batch-3(Data-Science)"
      ]
    }
  ],
  "metadata": {
    "colab": {
      "provenance": []
    },
    "kernelspec": {
      "display_name": "Python 3.10.6 64-bit",
      "language": "python",
      "name": "python3"
    },
    "language_info": {
      "codemirror_mode": {
        "name": "ipython",
        "version": 3
      },
      "file_extension": ".py",
      "mimetype": "text/x-python",
      "name": "python",
      "nbconvert_exporter": "python",
      "pygments_lexer": "ipython3",
      "version": "3.10.6"
    },
    "vscode": {
      "interpreter": {
        "hash": "916dbcbb3f70747c44a77c7bcd40155683ae19c65e1c03b4aa3499c5328201f1"
      }
    }
  },
  "nbformat": 4,
  "nbformat_minor": 0
}
